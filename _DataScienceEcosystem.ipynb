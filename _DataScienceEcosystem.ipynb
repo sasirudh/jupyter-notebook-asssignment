{
 "cells": [
  {
   "cell_type": "markdown",
   "id": "2e770a98-287c-4f37-810a-70bc860c6ec9",
   "metadata": {},
   "source": [
    "In this notebook, Data Science Tools and Ecosystem are summarized."
   ]
  },
  {
   "cell_type": "markdown",
   "id": "77e29594-4eed-4c5b-9f46-04899a0f8357",
   "metadata": {
    "tags": []
   },
   "source": [
    "## Some of the popular languages that Data Scientists use are:\n",
    "\n",
    "1. Python:\n",
    "   - Python is widely used in the data science community for its versatility, extensive libraries (such as NumPy, Pandas, and scikit-learn), and readability. It supports various data analysis and machine learning tasks.\n",
    "\n",
    "2. R:\n",
    "   - R is a programming language specifically designed for statistics and data analysis. It has a rich ecosystem of packages for statistical modeling, visualization, and data manipulation.\n",
    "\n",
    "3. SQL:\n",
    "   - SQL (Structured Query Language) is essential for working with relational databases. Data scientists often use SQL to query and manipulate data stored in databases, performing tasks like filtering, aggregating, and joining datasets.\n",
    "\n"
   ]
  },
  {
   "cell_type": "markdown",
   "id": "1c7184d4-9f71-49d2-a74b-ef56ca3d940a",
   "metadata": {},
   "source": [
    "| Data Science Tools    |\n",
    "|-----------------------|\n",
    "| Jupyter Notebooks     |\n",
    "| RStudio               |\n",
    "| VS Code (Visual Studio Code) |\n"
   ]
  },
  {
   "cell_type": "markdown",
   "id": "f0e86994-8ed1-450e-8dbd-ee1a7943cd0f",
   "metadata": {},
   "source": [
    "### Below are a few examples of evaluating arithmetic expressions in Python.\n"
   ]
  },
  {
   "cell_type": "markdown",
   "id": "87eabe4b-6ab3-43d8-b1c1-fb51de4c1f70",
   "metadata": {},
   "source": [
    "# this a simple arithmetic expression to mutiply then add integers"
   ]
  },
  {
   "cell_type": "code",
   "execution_count": 2,
   "id": "07d5eeae-9ff6-42be-8e50-d01f7a4e2c1a",
   "metadata": {
    "tags": []
   },
   "outputs": [
    {
     "data": {
      "text/plain": [
       "17"
      ]
     },
     "execution_count": 2,
     "metadata": {},
     "output_type": "execute_result"
    }
   ],
   "source": [
    "(3 * 4) + 5"
   ]
  },
  {
   "cell_type": "markdown",
   "id": "2753e021-0c37-495b-a610-1e4f3978f173",
   "metadata": {},
   "source": [
    "# This will convert 200 minutes to hours by diving by 60"
   ]
  },
  {
   "cell_type": "code",
   "execution_count": 3,
   "id": "04428ae5-e8e4-4feb-a0df-8f22e505882c",
   "metadata": {
    "tags": []
   },
   "outputs": [
    {
     "name": "stdout",
     "output_type": "stream",
     "text": [
      "200 minutes equal to 3.3333333333333335 hours\n"
     ]
    }
   ],
   "source": [
    "minutes = 200\n",
    "hours = minutes / 60\n",
    "print(\"200 minutes equal to\",hours,\"hours\")"
   ]
  },
  {
   "cell_type": "markdown",
   "id": "fd015b8f-d4bc-44e4-bb5d-2cfedb411bfb",
   "metadata": {
    "tags": []
   },
   "source": [
    "Objectives:\n",
    "\n",
    "- List popular languages for Data Science.\n",
    "- Understand how to install packages in R.\n",
    "- Explore ggplot2 functions for plot customization.\n",
    "- Learn about Git and GitHub for version control and collaboration.\n",
    "- Demonstrate the conversion of minutes to hours in Python.\n"
   ]
  },
  {
   "cell_type": "markdown",
   "id": "4c693095-2e36-4844-9f38-ba4f95829c57",
   "metadata": {},
   "source": [
    "## Author\n",
    "\n",
    "sasirudh PB\n"
   ]
  },
  {
   "cell_type": "code",
   "execution_count": null,
   "id": "101f0569-adb5-49d4-9acc-f0995c727547",
   "metadata": {},
   "outputs": [],
   "source": []
  }
 ],
 "metadata": {
  "kernelspec": {
   "display_name": "Python",
   "language": "python",
   "name": "conda-env-python-py"
  },
  "language_info": {
   "codemirror_mode": {
    "name": "ipython",
    "version": 3
   },
   "file_extension": ".py",
   "mimetype": "text/x-python",
   "name": "python",
   "nbconvert_exporter": "python",
   "pygments_lexer": "ipython3",
   "version": "3.7.12"
  }
 },
 "nbformat": 4,
 "nbformat_minor": 5
}
